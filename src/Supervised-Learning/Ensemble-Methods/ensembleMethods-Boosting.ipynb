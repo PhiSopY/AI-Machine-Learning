{
 "cells": [
  {
   "cell_type": "code",
   "execution_count": 1,
   "source": [
    "# For this basic implementation, we only need these modules\r\n",
    "from sklearn.datasets import load_breast_cancer\r\n",
    "from sklearn.model_selection import train_test_split\r\n",
    "from sklearn.tree import DecisionTreeClassifier\r\n",
    "from sklearn.ensemble import AdaBoostClassifier\r\n",
    "\r\n",
    "# Load the well-known Breast Cancer dataset\r\n",
    "# Split into train and test sets\r\n",
    "x, y = load_breast_cancer(return_X_y=True)\r\n",
    "x_train, x_test, y_train, y_test = train_test_split(x, y, test_size=0.25, random_state=23)\r\n",
    "\r\n",
    "# The base learner will be a decision tree with depth = 2\r\n",
    "tree = DecisionTreeClassifier(max_depth=2, random_state=23)\r\n",
    "\r\n",
    "# AdaBoost initialization\r\n",
    "# It's defined the decision tree as the base learner\r\n",
    "# The number of estimators will be 5\r\n",
    "# The penalizer for the weights of each estimator is 0.1\r\n",
    "adaboost = AdaBoostClassifier(base_estimator=tree, n_estimators=5, learning_rate=0.1, random_state=23)\r\n",
    "\r\n",
    "# Train!\r\n",
    "adaboost.fit(x_train, y_train)\r\n",
    "\r\n",
    "# Evaluation\r\n",
    "print(f\"Train score: {adaboost.score(x_train, y_train)}\")\r\n",
    "print(f\"Test score: {adaboost.score(x_test, y_test)}\")"
   ],
   "outputs": [
    {
     "output_type": "stream",
     "name": "stdout",
     "text": [
      "Train score: 0.9694835680751174\n",
      "Test score: 0.958041958041958\n"
     ]
    }
   ],
   "metadata": {}
  },
  {
   "cell_type": "code",
   "execution_count": 2,
   "source": [
    "# For this basic implementation, we only need these modules\r\n",
    "from sklearn.datasets import load_breast_cancer\r\n",
    "from sklearn.model_selection import train_test_split\r\n",
    "from sklearn.ensemble import GradientBoostingClassifier\r\n",
    "\r\n",
    "# Load the well-known Breast Cancer dataset\r\n",
    "# Split into train and test sets\r\n",
    "x, y = load_breast_cancer(return_X_y=True)\r\n",
    "x_train, x_test, y_train, y_test = train_test_split(x, y, test_size=0.25, random_state=23)\r\n",
    "\r\n",
    "# Gradient Boosting initialization\r\n",
    "# The base learner is a decision tree as default\r\n",
    "# The number of estimators is 5\r\n",
    "# The depth for each deciion tree is 2\r\n",
    "# The learning rate for each estimator in the sequence is 1\r\n",
    "gradientBoosting = GradientBoostingClassifier(n_estimators=5, learning_rate=1, max_depth=2, random_state=23)\r\n",
    "\r\n",
    "# Train!\r\n",
    "gradientBoosting.fit(x_train, y_train)\r\n",
    "\r\n",
    "# Evaluation\r\n",
    "print(f\"Train score: {gradientBoosting.score(x_train, y_train)}\")\r\n",
    "print(f\"Test score: {gradientBoosting.score(x_test, y_test)}\")"
   ],
   "outputs": [
    {
     "output_type": "stream",
     "name": "stdout",
     "text": [
      "Train score: 0.9906103286384976\n",
      "Test score: 0.965034965034965\n"
     ]
    }
   ],
   "metadata": {}
  },
  {
   "cell_type": "code",
   "execution_count": null,
   "source": [],
   "outputs": [],
   "metadata": {}
  }
 ],
 "metadata": {
  "orig_nbformat": 4,
  "language_info": {
   "name": "python",
   "version": "3.7.3",
   "mimetype": "text/x-python",
   "codemirror_mode": {
    "name": "ipython",
    "version": 3
   },
   "pygments_lexer": "ipython3",
   "nbconvert_exporter": "python",
   "file_extension": ".py"
  },
  "kernelspec": {
   "name": "python3",
   "display_name": "Python 3.7.3 64-bit"
  },
  "interpreter": {
   "hash": "89129a1fb0bd5f0cee518900c3d55b7c0af1e2414a3401fff3c9c02896224b95"
  }
 },
 "nbformat": 4,
 "nbformat_minor": 2
}