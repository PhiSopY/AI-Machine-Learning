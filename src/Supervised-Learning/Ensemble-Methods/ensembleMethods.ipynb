{
 "cells": [
  {
   "cell_type": "markdown",
   "source": [
    "# **Emsemble methods**\r\n",
    "The bias and variance tradeoff is one of the key concerns when working with machine learning algorithms. Fortunately there are some Ensemble Learning based techniques that machine learning practitioners can take advantage of in order to tackle the bias and variance tradeoff, these techniques are bagging and boosting. \r\n",
    "![ML](../../../doc/doc_ensembleMethods/ensemble1.jpeg)\r\n",
    "## **1. Bagging**\r\n",
    "![ML](../../../doc/doc_ensembleMethods/ensemble2.jpeg)\r\n",
    "**Bagging** Bagging or Bootstrap Aggregation was formally introduced by Leo Breiman in 1996. Bagging is an Ensemble Learning technique which aims to reduce the error learning through the implementation of a set of homogeneous machine learning algorithms. The key idea of bagging is the use of multiple base learners which are trained separately with a random sample from the training set, which through a voting or averaging approach, produce a more stable and accurate model.\r\n",
    "<br>The main two components of bagging technique are: the random sampling with replacement (bootstraping) and the set of homogeneous machine learning algorithms (ensemble learning). The bagging process is quite easy to understand, first it is extracted “n” subsets from the training set, then these subsets are used to train “n” base learners of the same type. For making a prediction, each one of the “n” learners are feed with the test sample, the output of each learner is averaged (in case of regression) or voted (in case of classification). Figure above shows an overview of the bagging architecture.\r\n",
    "<br>It is important to notice that the number of subsets as well as the number of items per subset will be determined by the nature of your ML problem, the same for the type of ML algorithm to be used. In addition, Leo Breiman mention in his paper that he noticed that for classification problems are required more subsets in comparison with regression problems.\r\n",
    "<br>**Code implementation** is here: [ensembleMethods-Bagging.ipynb](ensembleMethods-Bagging.ipynb)\r\n",
    "\r\n",
    "\r\n"
   ],
   "metadata": {}
  },
  {
   "cell_type": "markdown",
   "source": [
    "**Bagging Code implementation** is here: "
   ],
   "metadata": {}
  },
  {
   "cell_type": "code",
   "execution_count": 3,
   "source": [
    "# For this basic implementation, we only need these modules\r\n",
    "from sklearn.datasets import load_breast_cancer\r\n",
    "from sklearn.model_selection import train_test_split\r\n",
    "from sklearn.tree import DecisionTreeClassifier\r\n",
    "from sklearn.ensemble import BaggingClassifier\r\n",
    "\r\n",
    "# Load the well-known Breast Cancer dataset\r\n",
    "# Split into train and test sets\r\n",
    "x, y = load_breast_cancer(return_X_y=True)\r\n",
    "x_train, x_test, y_train, y_test = train_test_split(x, y, test_size=0.25, random_state=23)\r\n",
    "\r\n",
    "# For simplicity, we are going to use as base estimator a Decision Tree with fixed parameters\r\n",
    "tree = DecisionTreeClassifier(max_depth=3, random_state=23)\r\n",
    "\r\n",
    "# The baggging ensemble classifier is initialized with:\r\n",
    "# base_estimator = DecisionTree\r\n",
    "# n_estimators = 5 : it's gonna be created 5 subsets to train 5 Decision Tree models\r\n",
    "# max_samples = 50 : it's gonna be taken randomly 50 items with replacement\r\n",
    "# bootstrap = True : means that the sampling is gonna be with replacement\r\n",
    "bagging = BaggingClassifier(base_estimator=tree, n_estimators=5, max_samples=50, bootstrap=True)\r\n",
    "\r\n",
    "# Training\r\n",
    "bagging.fit(x_train, y_train)\r\n",
    "\r\n",
    "# Evaluating\r\n",
    "print(f\"Train score: {bagging.score(x_train, y_train)}\")\r\n",
    "print(f\"Test score: {bagging.score(x_test, y_test)}\")"
   ],
   "outputs": [
    {
     "output_type": "stream",
     "name": "stdout",
     "text": [
      "Train score: 0.9272300469483568\n",
      "Test score: 0.951048951048951\n"
     ]
    }
   ],
   "metadata": {}
  },
  {
   "cell_type": "markdown",
   "source": [
    "## **2. Boosting**\r\n",
    "![ML](../../../doc/doc_ensembleMethods/ensemble3.jpeg)\r\n",
    "**Boosting** is an Ensemble Learning technique that, like bagging, makes use of a set of base learners to improve the stability and effectiveness of a ML model. The idea behind a boosting architecture is the generation of sequential hypotheses, where each hypothesis tries to improve or correct the mistakes made in the previous one. The central idea of boosting is the implementation of homogeneous ML algorithms in a sequential way, where each of these ML algorithms tries to improve the stability of the model by focusing on the errors made by the previous ML algorithm. The way in which the errors of each base learner is considered to be improved with the next base learner in the sequence, is the key differentiator between all variations of the boosting technique.\r\n",
    "<br>The boosting technique has been studied and improved over the years, several variations have been added to the core idea of boosting, some of the most popular are: AdaBoost (Adaptive Boosting), Gradient Boosting and XGBoost (Extreme Gradient Boosting). As mentioned above, the key differentiator between boosting-based techniques is the way in which errors are penalized (by modifying weights or minimizing a loss function) as well as how the data is sampled."
   ],
   "metadata": {}
  },
  {
   "cell_type": "markdown",
   "source": [
    "**Boosting Code implementation** is here: "
   ],
   "metadata": {}
  },
  {
   "cell_type": "code",
   "execution_count": 1,
   "source": [
    "# For this basic implementation, we only need these modules\r\n",
    "from sklearn.datasets import load_breast_cancer\r\n",
    "from sklearn.model_selection import train_test_split\r\n",
    "from sklearn.tree import DecisionTreeClassifier\r\n",
    "from sklearn.ensemble import AdaBoostClassifier\r\n",
    "\r\n",
    "# Load the well-known Breast Cancer dataset\r\n",
    "# Split into train and test sets\r\n",
    "x, y = load_breast_cancer(return_X_y=True)\r\n",
    "x_train, x_test, y_train, y_test = train_test_split(x, y, test_size=0.25, random_state=23)\r\n",
    "\r\n",
    "# The base learner will be a decision tree with depth = 2\r\n",
    "tree = DecisionTreeClassifier(max_depth=2, random_state=23)\r\n",
    "\r\n",
    "# AdaBoost initialization\r\n",
    "# It's defined the decision tree as the base learner\r\n",
    "# The number of estimators will be 5\r\n",
    "# The penalizer for the weights of each estimator is 0.1\r\n",
    "adaboost = AdaBoostClassifier(base_estimator=tree, n_estimators=5, learning_rate=0.1, random_state=23)\r\n",
    "\r\n",
    "# Train!\r\n",
    "adaboost.fit(x_train, y_train)\r\n",
    "\r\n",
    "# Evaluation\r\n",
    "print(f\"Train score: {adaboost.score(x_train, y_train)}\")\r\n",
    "print(f\"Test score: {adaboost.score(x_test, y_test)}\")"
   ],
   "outputs": [
    {
     "output_type": "stream",
     "name": "stdout",
     "text": [
      "Train score: 0.9694835680751174\n",
      "Test score: 0.958041958041958\n"
     ]
    }
   ],
   "metadata": {}
  },
  {
   "cell_type": "code",
   "execution_count": 2,
   "source": [
    "# For this basic implementation, we only need these modules\r\n",
    "from sklearn.datasets import load_breast_cancer\r\n",
    "from sklearn.model_selection import train_test_split\r\n",
    "from sklearn.ensemble import GradientBoostingClassifier\r\n",
    "\r\n",
    "# Load the well-known Breast Cancer dataset\r\n",
    "# Split into train and test sets\r\n",
    "x, y = load_breast_cancer(return_X_y=True)\r\n",
    "x_train, x_test, y_train, y_test = train_test_split(x, y, test_size=0.25, random_state=23)\r\n",
    "\r\n",
    "# Gradient Boosting initialization\r\n",
    "# The base learner is a decision tree as default\r\n",
    "# The number of estimators is 5\r\n",
    "# The depth for each deciion tree is 2\r\n",
    "# The learning rate for each estimator in the sequence is 1\r\n",
    "gradientBoosting = GradientBoostingClassifier(n_estimators=5, learning_rate=1, max_depth=2, random_state=23)\r\n",
    "\r\n",
    "# Train!\r\n",
    "gradientBoosting.fit(x_train, y_train)\r\n",
    "\r\n",
    "# Evaluation\r\n",
    "print(f\"Train score: {gradientBoosting.score(x_train, y_train)}\")\r\n",
    "print(f\"Test score: {gradientBoosting.score(x_test, y_test)}\")"
   ],
   "outputs": [
    {
     "output_type": "stream",
     "name": "stdout",
     "text": [
      "Train score: 0.9906103286384976\n",
      "Test score: 0.965034965034965\n"
     ]
    }
   ],
   "metadata": {}
  },
  {
   "cell_type": "markdown",
   "source": [
    "## **3. Conclusion**\r\n",
    "As we have seen, bagging is a technique that performs random samples with replacement to train “n” base learners, this allows the model to be processed in parallel. It is because of this random sampling that bagging is a technique that mostly allows to reduce the variance. On the other hand, boosting is a sequentially constructed technique where each model in the sequence tries to focus on the error of the previous base learner. Although boosting is a technique that mainly allows to reduce the variance, it is highly prone to over-fitting the model.\r\n",
    "## **4. Bias and Variance**\r\n",
    "### **a. 集成学习的偏差与方差**\r\n",
    "偏差（Bias）描述的是预测值和真实值之差；方差（Variance）描述的是预测值作为随机变量的离散程度。放一张很经典的图：\r\n",
    "![ML](../../../doc/doc_ensembleMethods/biasVVariance.png)\r\n",
    "**模型的偏差与方差**\r\n",
    "* **偏差:** 描述样本拟合出的模型的预测结果的期望与样本真实结果的差距，要想偏差表现的好，就需要复杂化模型，增加模型的参数，但这样容易过拟合，过拟合对应上图的 High Variance，点会很分散。低偏差对应的点都打在靶心附近，所以喵的很准，但不一定很稳；\r\n",
    "* **方差:** 描述样本上训练出来的模型在测试集上的表现，要想方差表现的好，需要简化模型，减少模型的复杂度，但这样容易欠拟合，欠拟合对应上图 High Bias，点偏离中心。低方差对应就是点都打的很集中，但不一定是靶心附近，手很稳，但不一定瞄的准。\r\n",
    "<br>我们常说集成学习中的基模型是弱模型，通常来说弱模型是偏差高（在训练集上准确度低）方差小（防止过拟合能力强）的模型，但并不是所有集成学习框架中的基模型都是弱模型。Bagging 和 Stacking 中的基模型为强模型（偏差低，方差高），而Boosting 中的基模型为弱模型（偏差高，方差低）。在 Bagging 和 Boosting 框架中，通过计算基模型的期望和方差我们可以得到模型整体的期望和方差。\r\n",
    "\r\n",
    "为了简化模型，我们假设基模型的期望为:$\\mu$，方差$\\sigma^2$，模型的权重为$r$，两两模型间的相关系数$\\rho$相等。由于 Bagging 和 Boosting 的基模型都是线性组成的，那么有:\r\n",
    "\r\n",
    "模型总体期望：\r\n",
    "$$E(F)=E(\\sum_i^m r_i f_i)=\\sum_i^m r_i E(f_i)$$\r\n",
    "<br>模型总体方差（公式推导参考协方差的性质，协方差与方差的关系）：\r\n",
    "$$\r\n",
    "\\begin{split}\r\n",
    "Var(f)&=Var(\\sum_i^m r_i f_i)\\\\\r\n",
    "&=\\sum_i^m Var(r_i f_i)+\\sum_{i \\ne j}^m Cov(r_i f_i, r_j f_j)\\\\\r\n",
    "&=\\sum_i^m r_i^2 Var(f_i)+\\sum_{i \\ne j}^m \\rho r_i r_j \\sqrt{Var(f_i)} \\sqrt{Var(f_j)}\\\\\r\n",
    "&=m r^2 \\sigma^2 + m (m-1) \\rho r^2 \\sigma^2\\\\\r\n",
    "&=m r^2 \\sigma^2(1-\\rho)+m^2r^2\\sigma^2\\rho\r\n",
    "\\end{split}\r\n",
    "$$\r\n",
    "<br/>模型的准确度可由偏差和方差共同决定：\r\n",
    "$$\r\n",
    "Error=bias^2+var+\\xi\r\n",
    "$$\r\n",
    "\r\n",
    "### **b. Bagging的偏差与方差**\r\n",
    "\r\n",
    "<br/>对于Bagging 来说，每个基模型的权重等于$\\frac 1 m$且期望近似相等，故我们可以得到：\r\n",
    "\r\n",
    "$$\r\n",
    "\\begin{split}\r\n",
    "E(F)&=\\sum_i^m r_i E(f_i)\\\\\r\n",
    "&= m \\frac 1 m \\mu\\\\\r\n",
    "&=\\mu\r\n",
    "\\end{split}\r\n",
    "$$ \r\n",
    "\r\n",
    "$$\r\n",
    "\\begin{split}\r\n",
    "Var(F)&=mr^2\\sigma^2(1-\\rho)+m^2 r^2 \\sigma^2 \\rho\\\\\r\n",
    "&= m\\frac 1 {m^2} \\sigma^2 (1-\\rho) + m^2 \\frac 1 m^2\\sigma^2\\rho\\\\\r\n",
    "&=\\frac {\\sigma^2 (1-\\rho)} m +\\sigma^2 \\rho\\\\\r\n",
    "\\end{split}\r\n",
    "$$ \r\n",
    "通过上式我们可以看到：\r\n",
    "* 整体模型的期望等于基模型的期望，这也就意味着整体模型的偏差和基模型的偏差近似。\r\n",
    "* 整体模型的方差小于等于基模型的方差，当且仅当相关性为 1 时取等号，随着基模型数量增多，整体模型的方差减少，从而防止过拟合的能力增强，模型的准确度得到提高。但是，模型的准确度一定会无限逼近于 1 吗？并不一定，当基模型数增加到一定程度时，方差公式第一项的改变对整体方差的作用很小，防止过拟合的能力达到极限，这便是准确度的极限了。\r\n",
    "\r\n",
    "在此我们知道了为什么 Bagging 中的基模型一定要为强模型，如果 Bagging 使用弱模型则会导致整体模型的偏差提高，而准确度降低。Random Forest 是经典的基于 Bagging 框架的模型，并在此基础上通过引入特征采样和样本采样来降低基模型间的相关性，在公式中显著降低方差公式中的第二项，略微升高第一项，从而使得整体降低模型整体方差。\r\n",
    "### **c. Boosting的偏差与方差**\r\n",
    "对于 Boosting 来说，由于基模型共用同一套训练集，所以基模型间具有强相关性，故模型间的相关系数近似等于1，针对 Boosting 化简公式为： \r\n",
    "$$\r\n",
    "\\begin{split}\r\n",
    "E(F)&=\\sum_i^m r_i E(f_i)\r\n",
    "\\end{split}\r\n",
    "$$ \r\n",
    "\r\n",
    "$$\r\n",
    "\\begin{split}\r\n",
    "Var(F)&=mr^2\\sigma^2(1-\\rho)+m^2 r^2 \\sigma^2 \\rho\\\\\r\n",
    "&= m\\frac 1 {m^2} \\sigma^2 (1-\\rho) + m^2 \\frac 1 m^2\\sigma^2\\rho\\\\\r\n",
    "&=\\sigma^2\\\\\r\n",
    "\\end{split}\r\n",
    "$$ \r\n",
    "\r\n",
    "通过观察整体方差的表达式我们容易发现：\r\n",
    "* 整体模型的方差等于基模型的方差，如果基模型不是弱模型，其方差相对较大，这将导致整体模型的方差很大，即无法达到防止过拟合的效果。因此，Boosting 框架中的基模型必须为弱模型。\r\n",
    "* 此外 Boosting 框架中采用基于贪心策略的前向加法，整体模型的期望由基模型的期望累加而成，所以随着基模型数的增多，整体模型的期望值增加，整体模型的准确度提高。\r\n",
    "\r\n",
    "基于 Boosting 框架的 Gradient Boosting Decision Tree 模型中基模型也为树模型，同 Random Forrest，我们也可以对特征进行随机抽样来使基模型间的相关性降低，从而达到减少方差的效果。\r\n",
    "\r\n",
    "### **d. 小结**\r\n",
    "* 我们可以使用模型的偏差和方差来近似描述模型的准确度；\r\n",
    "* 对于 Bagging 来说，整体模型的偏差与基模型近似，而随着模型的增加可以降低整体模型的方差，故其基模型需要为强模型；\r\n",
    "* 对于 Boosting 来说，整体模型的方差近似等于基模型的方差，而整体模型的偏差由基模型累加而成，故基模型需要为弱模型。\r\n",
    "\r\n",
    "## **5. References：**\r\n",
    "[1] 知乎[@阿泽](https://www.zhihu.com/search?type=content&q=random%20forest)\r\n",
    "<br>[2] Towards data science[@Fernando López](https://towardsdatascience.com/ensemble-learning-bagging-boosting-3098079e5422)"
   ],
   "metadata": {}
  },
  {
   "cell_type": "markdown",
   "source": [],
   "metadata": {}
  }
 ],
 "metadata": {
  "orig_nbformat": 4,
  "language_info": {
   "name": "python",
   "version": "3.7.3",
   "mimetype": "text/x-python",
   "codemirror_mode": {
    "name": "ipython",
    "version": 3
   },
   "pygments_lexer": "ipython3",
   "nbconvert_exporter": "python",
   "file_extension": ".py"
  },
  "kernelspec": {
   "name": "python3",
   "display_name": "Python 3.7.3 64-bit"
  },
  "interpreter": {
   "hash": "89129a1fb0bd5f0cee518900c3d55b7c0af1e2414a3401fff3c9c02896224b95"
  }
 },
 "nbformat": 4,
 "nbformat_minor": 2
}