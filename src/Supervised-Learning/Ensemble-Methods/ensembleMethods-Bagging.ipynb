{
 "cells": [
  {
   "cell_type": "code",
   "execution_count": 1,
   "source": [
    "# For this basic implementation, we only need these modules\r\n",
    "from sklearn.datasets import load_breast_cancer\r\n",
    "from sklearn.model_selection import train_test_split\r\n",
    "from sklearn.tree import DecisionTreeClassifier\r\n",
    "from sklearn.ensemble import BaggingClassifier\r\n",
    "\r\n",
    "# Load the well-known Breast Cancer dataset\r\n",
    "# Split into train and test sets\r\n",
    "x, y = load_breast_cancer(return_X_y=True)\r\n",
    "x_train, x_test, y_train, y_test = train_test_split(x, y, test_size=0.25, random_state=23)\r\n",
    "\r\n",
    "# For simplicity, we are going to use as base estimator a Decision Tree with fixed parameters\r\n",
    "tree = DecisionTreeClassifier(max_depth=3, random_state=23)\r\n",
    "\r\n",
    "# The baggging ensemble classifier is initialized with:\r\n",
    "# base_estimator = DecisionTree\r\n",
    "# n_estimators = 5 : it's gonna be created 5 subsets to train 5 Decision Tree models\r\n",
    "# max_samples = 50 : it's gonna be taken randomly 50 items with replacement\r\n",
    "# bootstrap = True : means that the sampling is gonna be with replacement\r\n",
    "bagging = BaggingClassifier(base_estimator=tree, n_estimators=5, max_samples=50, bootstrap=True)\r\n",
    "\r\n",
    "# Training\r\n",
    "bagging.fit(x_train, y_train)\r\n",
    "\r\n",
    "# Evaluating\r\n",
    "print(f\"Train score: {bagging.score(x_train, y_train)}\")\r\n",
    "print(f\"Test score: {bagging.score(x_test, y_test)}\")"
   ],
   "outputs": [
    {
     "output_type": "stream",
     "name": "stdout",
     "text": [
      "Train score: 0.9436619718309859\n",
      "Test score: 0.972027972027972\n"
     ]
    }
   ],
   "metadata": {}
  },
  {
   "cell_type": "code",
   "execution_count": null,
   "source": [],
   "outputs": [],
   "metadata": {}
  }
 ],
 "metadata": {
  "orig_nbformat": 4,
  "language_info": {
   "name": "python",
   "version": "3.7.3",
   "mimetype": "text/x-python",
   "codemirror_mode": {
    "name": "ipython",
    "version": 3
   },
   "pygments_lexer": "ipython3",
   "nbconvert_exporter": "python",
   "file_extension": ".py"
  },
  "kernelspec": {
   "name": "python3",
   "display_name": "Python 3.7.3 64-bit"
  },
  "interpreter": {
   "hash": "89129a1fb0bd5f0cee518900c3d55b7c0af1e2414a3401fff3c9c02896224b95"
  }
 },
 "nbformat": 4,
 "nbformat_minor": 2
}